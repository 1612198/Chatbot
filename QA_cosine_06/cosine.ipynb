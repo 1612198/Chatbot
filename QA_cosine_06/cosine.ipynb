{
 "cells": [
  {
   "cell_type": "code",
   "execution_count": 36,
   "metadata": {},
   "outputs": [],
   "source": [
    "questions = []\n",
    "answers = []\n"
   ]
  },
  {
   "cell_type": "code",
   "execution_count": 37,
   "metadata": {},
   "outputs": [],
   "source": [
    "questions = [line.rstrip('\\n') for line in open(\"question.txt\")]\n",
    "answers = [line.rstrip('\\n') for line in open(\"answer.txt\")]"
   ]
  },
  {
   "cell_type": "code",
   "execution_count": 38,
   "metadata": {},
   "outputs": [
    {
     "name": "stdout",
     "output_type": "stream",
     "text": [
      "['How many regions are in Ghana?', 'What is the favorite food for people in the Ashanti region of Ghana?', 'What is the name of the king of the Asantes?', 'What cash crop does Ghana export?', 'What is the primary occupation in Ghana?', 'Which country is the leading producer of cocoa in Africa?', 'Who is the minister of Food and Agriculture in Ghana?', 'What is crop rotation?', 'What is a cash crop?', 'What is arable farming?', 'What is the dominant native language in Ghana?', 'What is the current population of Ghana?', 'What is the capital city of Ghana?', 'Who is the best player in the world?', 'Which University is the most popular in Vietnam?']\n"
     ]
    }
   ],
   "source": [
    "print(questions)\n"
   ]
  },
  {
   "cell_type": "code",
   "execution_count": 39,
   "metadata": {},
   "outputs": [
    {
     "name": "stdout",
     "output_type": "stream",
     "text": [
      "['Ten', 'Fufu', 'Otumfuo Osei Tutu I', 'Cocoa  ', 'Farming', 'Cote D’Ivoire', 'Dr. Owusu Afriyie Akoto', 'The practice of growing a series of different types of crops in the same area in sequenced seasons', 'An agricultural crop grown for sale to return profit.', 'A kind of farming in which the land is ploughed and used to grow crops.', 'Twi', '28.8 million', 'Accra', 'Cristiano Ronaldo', 'University of Science, HCMC']\n"
     ]
    }
   ],
   "source": [
    "print(answers)"
   ]
  },
  {
   "cell_type": "code",
   "execution_count": 40,
   "metadata": {},
   "outputs": [
    {
     "name": "stdout",
     "output_type": "stream",
     "text": [
      "[0.         0.         0.         0.         0.47018274 0.\n",
      " 0.         0.         0.         0.         0.         0.\n",
      " 0.         0.         0.         0.         0.         0.\n",
      " 0.         0.         0.         0.         0.24053356 0.47018274\n",
      " 0.24053356 0.         0.         0.         0.         0.47018274\n",
      " 0.         0.         0.         0.         0.         0.\n",
      " 0.         0.         0.         0.         0.         0.\n",
      " 0.         0.47018274 0.         0.         0.         0.\n",
      " 0.         0.         0.         0.        ]\n"
     ]
    }
   ],
   "source": [
    "from sklearn.feature_extraction.text import TfidfVectorizer\n",
    "vectorizer = TfidfVectorizer()\n",
    "X = vectorizer.fit(questions)\n",
    "array = X.transform(questions).toarray()\n",
    "print(array[0])"
   ]
  },
  {
   "cell_type": "code",
   "execution_count": 41,
   "metadata": {},
   "outputs": [
    {
     "data": {
      "text/plain": [
       "(52,)"
      ]
     },
     "execution_count": 41,
     "metadata": {},
     "output_type": "execute_result"
    }
   ],
   "source": [
    "array[0].shape"
   ]
  },
  {
   "cell_type": "code",
   "execution_count": 42,
   "metadata": {},
   "outputs": [],
   "source": [
    "import numpy as np\n",
    "def cosine_similarity(a, b):\n",
    "    dot_product = np.dot(a,b)\n",
    "    norm_a = np.linalg.norm(a)\n",
    "    norm_b = np.linalg.norm(b)\n",
    "    return dot_product/(norm_a*norm_b)"
   ]
  },
  {
   "cell_type": "code",
   "execution_count": 43,
   "metadata": {},
   "outputs": [],
   "source": [
    "test_question = ['Best university in Vietnam']\n",
    "test_vector = X.transform(test_question).toarray()"
   ]
  },
  {
   "cell_type": "code",
   "execution_count": 44,
   "metadata": {},
   "outputs": [
    {
     "name": "stdout",
     "output_type": "stream",
     "text": [
      "[0.         0.         0.         0.         0.         0.\n",
      " 0.         0.55370369 0.         0.         0.         0.\n",
      " 0.         0.         0.         0.         0.         0.\n",
      " 0.         0.         0.         0.         0.         0.\n",
      " 0.28326076 0.         0.         0.         0.         0.\n",
      " 0.         0.         0.         0.         0.         0.\n",
      " 0.         0.         0.         0.         0.         0.\n",
      " 0.         0.         0.         0.         0.55370369 0.55370369\n",
      " 0.         0.         0.         0.        ]\n"
     ]
    }
   ],
   "source": [
    "print(test_vector[0])"
   ]
  },
  {
   "cell_type": "code",
   "execution_count": 45,
   "metadata": {},
   "outputs": [
    {
     "name": "stdout",
     "output_type": "stream",
     "text": [
      "University of Science, HCMC\n"
     ]
    }
   ],
   "source": [
    "response = ''\n",
    "most_sim = 0\n",
    "for i in range(len(questions)):\n",
    "    if most_sim < cosine_similarity(array[i], test_vector[0]):\n",
    "        most_sim = cosine_similarity(array[i], test_vector[0])\n",
    "        index = i\n",
    "\n",
    "response = answers[index]\n",
    "print(response)"
   ]
  },
  {
   "cell_type": "code",
   "execution_count": null,
   "metadata": {},
   "outputs": [],
   "source": []
  }
 ],
 "metadata": {
  "kernelspec": {
   "display_name": "Python 3",
   "language": "python",
   "name": "python3"
  },
  "language_info": {
   "codemirror_mode": {
    "name": "ipython",
    "version": 3
   },
   "file_extension": ".py",
   "mimetype": "text/x-python",
   "name": "python",
   "nbconvert_exporter": "python",
   "pygments_lexer": "ipython3",
   "version": "3.6.8"
  }
 },
 "nbformat": 4,
 "nbformat_minor": 2
}
